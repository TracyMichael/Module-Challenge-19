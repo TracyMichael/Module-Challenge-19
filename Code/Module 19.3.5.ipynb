{
 "cells": [
  {
   "cell_type": "code",
   "execution_count": 1,
   "id": "03c8995c-fa5d-4032-9cc2-9353bb771a2d",
   "metadata": {},
   "outputs": [],
   "source": [
    "# Imports\n",
    "import os\n",
    "from dotenv import load_dotenv\n",
    "load_dotenv(\"SAMPLE.env\")\n",
    "from bip44 import Wallet\n",
    "from eth_account import Account\n",
    "from web3 import middleware\n",
    "from web3.gas_strategies.time_based import medium_gas_price_strategy\n",
    "from web3 import Web3\n",
    "w3 = Web3(Web3.HTTPProvider('HTTP://127.0.0.1:7545'))"
   ]
  },
  {
   "cell_type": "code",
   "execution_count": 2,
   "id": "0a99359b-0266-4026-b080-4f3343ca3989",
   "metadata": {},
   "outputs": [],
   "source": [
    "amount = 2\n",
    "value = w3.toWei(amount, \"ether\")"
   ]
  },
  {
   "cell_type": "code",
   "execution_count": 3,
   "id": "9087dcd7-c232-4931-9d73-a44820e1b1c7",
   "metadata": {},
   "outputs": [],
   "source": [
    "receiver = \"0x4b0d14BDD1E41dAdD15B66EEB7D7c454aD19A0af\""
   ]
  },
  {
   "cell_type": "code",
   "execution_count": 4,
   "id": "7a5e457c-15da-4144-a5e6-24df7f836c33",
   "metadata": {},
   "outputs": [],
   "source": [
    "# Set the gas price strategy\n",
    "w3.eth.setGasPriceStrategy(medium_gas_price_strategy)"
   ]
  },
  {
   "cell_type": "code",
   "execution_count": 5,
   "id": "4a9e7de3-5524-4ab9-a68e-b1e007e972ee",
   "metadata": {},
   "outputs": [
    {
     "data": {
      "text/plain": [
       "'portion enrich muscle trap venue fabric install primary tooth indoor spider kingdom'"
      ]
     },
     "metadata": {},
     "output_type": "display_data"
    },
    {
     "data": {
      "text/plain": [
       "'0xF5Ae5fc049f49bdf0c31AA7Beb763bE56Dd62547'"
      ]
     },
     "metadata": {},
     "output_type": "display_data"
    }
   ],
   "source": [
    "mnemonic = os.getenv(\"MNEMONIC\")\n",
    "wallet = Wallet(mnemonic)\n",
    "private, public = wallet.derive_account(\"eth\")\n",
    "account = Account.privateKeyToAccount(private)\n",
    "account_address = account.address\n",
    "\n",
    "display(mnemonic)\n",
    "display(account_address)"
   ]
  },
  {
   "cell_type": "code",
   "execution_count": 6,
   "id": "fd547d9f-5995-4afc-9f05-e23ff0bc7973",
   "metadata": {},
   "outputs": [],
   "source": [
    "# Calculate the gas estimate\n",
    "gasEstimate = w3.eth.estimateGas(\n",
    "    {\"to\": receiver,\n",
    "     \"from\": account_address,\n",
    "     \"value\": value\n",
    "    }\n",
    ")"
   ]
  },
  {
   "cell_type": "code",
   "execution_count": 7,
   "id": "26d09007-e916-4f83-b0a1-759af48254df",
   "metadata": {},
   "outputs": [],
   "source": [
    "# Create the transaction object\n",
    "raw_tx = {\n",
    "    \t\"to\": receiver,\n",
    "    \t\"from\": account_address,\n",
    "    \t\"value\": value,\n",
    "    \t\"gas\": gasEstimate,\n",
    "    \t\"gasPrice\": 0,\n",
    "    \t\"nonce\": w3.eth.getTransactionCount(account.address)\n",
    "}"
   ]
  },
  {
   "cell_type": "code",
   "execution_count": 8,
   "id": "2ba58276-a4c0-474d-a81d-c6f647e160d2",
   "metadata": {},
   "outputs": [
    {
     "data": {
      "text/plain": [
       "HexBytes('0xd493aa94b7b6ec5c326938ba2b5e3b7f0aaa5b680c108c204e2ce7051cdbb876')"
      ]
     },
     "execution_count": 8,
     "metadata": {},
     "output_type": "execute_result"
    }
   ],
   "source": [
    "# Create a signed transaction by passing the transaction object\n",
    "# into the signTransaction function\n",
    "signed_tx = account.signTransaction(raw_tx)\n",
    "\n",
    "# Route the signed transaction to the Ethereum blockchain\n",
    "w3.eth.sendRawTransaction(signed_tx.rawTransaction)"
   ]
  },
  {
   "cell_type": "code",
   "execution_count": null,
   "id": "477c0a2b-bb53-4fad-b1bf-6ce5be16bed2",
   "metadata": {},
   "outputs": [],
   "source": []
  }
 ],
 "metadata": {
  "kernelspec": {
   "display_name": "dev2",
   "language": "python",
   "name": "dev2"
  },
  "language_info": {
   "codemirror_mode": {
    "name": "ipython",
    "version": 3
   },
   "file_extension": ".py",
   "mimetype": "text/x-python",
   "name": "python",
   "nbconvert_exporter": "python",
   "pygments_lexer": "ipython3",
   "version": "3.9.12"
  }
 },
 "nbformat": 4,
 "nbformat_minor": 5
}
